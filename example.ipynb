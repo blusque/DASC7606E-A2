{
 "cells": [
  {
   "cell_type": "markdown",
   "id": "c8d8569a",
   "metadata": {},
   "source": [
    "## Login with Huggingface Hub"
   ]
  },
  {
   "cell_type": "code",
   "execution_count": 1,
   "id": "0f8585a4",
   "metadata": {},
   "outputs": [
    {
     "data": {
      "application/vnd.jupyter.widget-view+json": {
       "model_id": "28b1dc0134324a48a620dc6a812a0438",
       "version_major": 2,
       "version_minor": 0
      },
      "text/plain": [
       "VBox(children=(HTML(value='<center> <img\\nsrc=https://huggingface.co/front/assets/huggingface_logo-noborder.sv…"
      ]
     },
     "metadata": {},
     "output_type": "display_data"
    }
   ],
   "source": [
    "from huggingface_hub import notebook_login\n",
    "\n",
    "notebook_login()"
   ]
  },
  {
   "cell_type": "markdown",
   "id": "f159d695",
   "metadata": {},
   "source": [
    "## Load the dataset"
   ]
  },
  {
   "cell_type": "code",
   "execution_count": 2,
   "id": "900fd393",
   "metadata": {},
   "outputs": [
    {
     "name": "stdout",
     "output_type": "stream",
     "text": [
      "{'id': 0,\n",
      " 'ner_tags': [0, 0, 0, 1, 2, 0, 1, 0, 7, 8, 0, 1, 2, 2],\n",
      " 'tokens': ['his',\n",
      "            'playlist',\n",
      "            'includes',\n",
      "            'sonny',\n",
      "            'sharrock',\n",
      "            ',',\n",
      "            'gza',\n",
      "            ',',\n",
      "            'country',\n",
      "            'teasers',\n",
      "            'and',\n",
      "            'the',\n",
      "            'notorious',\n",
      "            'b.i.g.']}\n"
     ]
    }
   ],
   "source": [
    "from datasets import load_dataset\n",
    "from pprint import pprint\n",
    "\n",
    "raw_dataset = load_dataset('tomaarsen/MultiCoNER', 'multi')\n",
    "\n",
    "pprint(raw_dataset['train'][0])"
   ]
  },
  {
   "cell_type": "code",
   "execution_count": 3,
   "id": "000e7a7f",
   "metadata": {},
   "outputs": [
    {
     "data": {
      "text/plain": [
       "['O',\n",
       " 'B-PER',\n",
       " 'I-PER',\n",
       " 'B-LOC',\n",
       " 'I-LOC',\n",
       " 'B-CORP',\n",
       " 'I-CORP',\n",
       " 'B-GRP',\n",
       " 'I-GRP',\n",
       " 'B-PROD',\n",
       " 'I-PROD',\n",
       " 'B-CW',\n",
       " 'I-CW']"
      ]
     },
     "execution_count": 3,
     "metadata": {},
     "output_type": "execute_result"
    }
   ],
   "source": [
    "label_list = raw_dataset['train'].features[f'ner_tags'].feature.names\n",
    "label_list"
   ]
  },
  {
   "cell_type": "markdown",
   "id": "251bd866",
   "metadata": {},
   "source": [
    "# Load the Tokenizer"
   ]
  },
  {
   "cell_type": "code",
   "execution_count": 4,
   "id": "87cc09df",
   "metadata": {},
   "outputs": [],
   "source": [
    "from transformers import AutoTokenizer\n",
    "\n",
    "tokenizer = AutoTokenizer.from_pretrained('google-bert/bert-base-cased')"
   ]
  },
  {
   "cell_type": "code",
   "execution_count": 5,
   "id": "359fa0d4",
   "metadata": {},
   "outputs": [
    {
     "data": {
      "text/plain": [
       "['[CLS]',\n",
       " 'his',\n",
       " 'play',\n",
       " '##list',\n",
       " 'includes',\n",
       " 'son',\n",
       " '##ny',\n",
       " 's',\n",
       " '##har',\n",
       " '##rock',\n",
       " ',',\n",
       " 'g',\n",
       " '##za',\n",
       " ',',\n",
       " 'country',\n",
       " 'tease',\n",
       " '##rs',\n",
       " 'and',\n",
       " 'the',\n",
       " 'notorious',\n",
       " 'b',\n",
       " '.',\n",
       " 'i',\n",
       " '.',\n",
       " 'g',\n",
       " '.',\n",
       " '[SEP]']"
      ]
     },
     "execution_count": 5,
     "metadata": {},
     "output_type": "execute_result"
    }
   ],
   "source": [
    "example = raw_dataset['train'][0]\n",
    "# Tokenize the first example in the training set\n",
    "tokenized_input = tokenizer(\n",
    "    example['tokens'],\n",
    "    is_split_into_words=True,\n",
    "    return_offsets_mapping=True,\n",
    ")\n",
    "tokens = tokenizer.convert_ids_to_tokens(tokenized_input['input_ids'])\n",
    "tokens"
   ]
  },
  {
   "cell_type": "code",
   "execution_count": 6,
   "id": "4637ea39",
   "metadata": {},
   "outputs": [],
   "source": [
    "def tokenize_and_align_labels(examples):\n",
    "    toeknized_inputs = tokenizer(examples['tokens'], truncation=True, is_split_into_words=True)\n",
    "\n",
    "    labels = []\n",
    "    for i, label in enumerate(examples['ner_tags']):\n",
    "        word_ids = toeknized_inputs.word_ids(batch_index=i)\n",
    "        # Map the token to the original label\n",
    "        previous_word_idx = None\n",
    "\n",
    "        label_ids = []\n",
    "        for word_idx in word_ids:\n",
    "            # Special tokens have a word id that is None. We set the label to -100 so they are ignored in loss\n",
    "            if word_idx is None:\n",
    "                label_ids.append(-100)\n",
    "            elif previous_word_idx is None or word_idx != previous_word_idx:\n",
    "                # Start of a new word\n",
    "                label_ids.append(label[word_idx])\n",
    "            else:\n",
    "                # Continuing the same word, repeat the previous label\n",
    "                label_ids.append(label[previous_word_idx])\n",
    "            previous_word_idx = word_idx\n",
    "        labels.append(label_ids)\n",
    "        \n",
    "    toeknized_inputs['labels'] = labels\n",
    "    return toeknized_inputs"
   ]
  },
  {
   "cell_type": "code",
   "execution_count": 7,
   "id": "0d72eb60",
   "metadata": {},
   "outputs": [
    {
     "data": {
      "application/vnd.jupyter.widget-view+json": {
       "model_id": "fd8356ec11a24c03be003f38d2a412f1",
       "version_major": 2,
       "version_minor": 0
      },
      "text/plain": [
       "Map:   0%|          | 0/471911 [00:00<?, ? examples/s]"
      ]
     },
     "metadata": {},
     "output_type": "display_data"
    }
   ],
   "source": [
    "tokenized_datasets = raw_dataset.map(tokenize_and_align_labels, batched=True)"
   ]
  },
  {
   "cell_type": "code",
   "execution_count": 8,
   "id": "ed411dda",
   "metadata": {},
   "outputs": [],
   "source": [
    "from transformers import DataCollatorForTokenClassification\n",
    "\n",
    "data_collator = DataCollatorForTokenClassification(tokenizer=tokenizer)"
   ]
  },
  {
   "cell_type": "markdown",
   "id": "5bc2062e",
   "metadata": {},
   "source": [
    "# Evaluate"
   ]
  },
  {
   "cell_type": "code",
   "execution_count": 9,
   "id": "67d78ee2",
   "metadata": {},
   "outputs": [],
   "source": [
    "import evaluate\n",
    "\n",
    "seqeval = evaluate.load(\"seqeval\")"
   ]
  },
  {
   "cell_type": "code",
   "execution_count": null,
   "id": "0adef321",
   "metadata": {},
   "outputs": [],
   "source": [
    "import numpy as np\n",
    "\n",
    "labels = [label_list[i] for i in example[f'ner_tags']]\n",
    "\n",
    "def compute_metrics(p):\n",
    "    \"\"\"\n",
    "    Computes the precision, recall, and F1 score of the model predictions.\n",
    "    \"\"\"\n",
    "    predictions, labels = p\n",
    "    predictions = np.argmax(predictions, axis=2)  # Get the predicted class indices\n",
    "    # Remove ignored index (special tokens)\n",
    "    true_predictions = [\n",
    "        [label_list[p] for (p, l) in zip(prediction, label) if l != -100]\n",
    "        for (prediction, label) in zip(predictions, labels)\n",
    "    ]\n",
    "    true_labels = [\n",
    "        [label_list[l] for (p, l) in zip(prediction, label) if l != -100]\n",
    "        for (prediction, label) in zip(predictions, labels)\n",
    "    ]\n",
    "    \n",
    "    results = seqeval.compute(predictions=true_predictions, references=true_labels)\n",
    "    return {\n",
    "        \"precision\": results[\"overall_precision\"],\n",
    "        \"recall\": results[\"overall_recall\"],\n",
    "        \"f1\": results[\"overall_f1\"],\n",
    "        \"accuracy\": results[\"overall_accuracy\"],\n",
    "    }"
   ]
  },
  {
   "cell_type": "markdown",
   "id": "962da7a4",
   "metadata": {},
   "source": [
    "# Train"
   ]
  },
  {
   "cell_type": "code",
   "execution_count": 11,
   "id": "cea3c3c9",
   "metadata": {},
   "outputs": [],
   "source": [
    "LABEL_TO_ID = {\n",
    "    \"O\": 0,\n",
    "    \"B-PER\": 1,\n",
    "    \"I-PER\": 2,\n",
    "    \"B-LOC\": 3,\n",
    "    \"I-LOC\": 4,\n",
    "    \"B-CORP\": 5,\n",
    "    \"I-CORP\": 6,\n",
    "    \"B-GRP\": 7,\n",
    "    \"I-GRP\": 8,\n",
    "    \"B-PROD\": 9,\n",
    "    \"I-PROD\": 10,\n",
    "    \"B-CW\": 11,\n",
    "    \"I-CW\": 12,\n",
    "}\n",
    "ID_TO_LABEL = {i: label for i, label in enumerate(LABEL_TO_ID)}"
   ]
  },
  {
   "cell_type": "code",
   "execution_count": 12,
   "id": "95942c55",
   "metadata": {},
   "outputs": [
    {
     "name": "stderr",
     "output_type": "stream",
     "text": [
      "Some weights of BertForTokenClassification were not initialized from the model checkpoint at google-bert/bert-base-cased and are newly initialized: ['classifier.bias', 'classifier.weight']\n",
      "You should probably TRAIN this model on a down-stream task to be able to use it for predictions and inference.\n",
      "/home/blusque/miniconda3/envs/nlp_env/lib/python3.11/site-packages/transformers/training_args.py:1611: FutureWarning: `evaluation_strategy` is deprecated and will be removed in version 4.46 of 🤗 Transformers. Use `eval_strategy` instead\n",
      "  warnings.warn(\n"
     ]
    },
    {
     "data": {
      "text/html": [
       "\n",
       "    <div>\n",
       "      \n",
       "      <progress value='31557' max='31557' style='width:300px; height:20px; vertical-align: middle;'></progress>\n",
       "      [31557/31557 3:20:41, Epoch 3/3]\n",
       "    </div>\n",
       "    <table border=\"1\" class=\"dataframe\">\n",
       "  <thead>\n",
       " <tr style=\"text-align: left;\">\n",
       "      <th>Epoch</th>\n",
       "      <th>Training Loss</th>\n",
       "      <th>Validation Loss</th>\n",
       "      <th>Precision</th>\n",
       "      <th>Recall</th>\n",
       "      <th>F1</th>\n",
       "      <th>Accuracy</th>\n",
       "    </tr>\n",
       "  </thead>\n",
       "  <tbody>\n",
       "    <tr>\n",
       "      <td>1</td>\n",
       "      <td>0.391900</td>\n",
       "      <td>0.366982</td>\n",
       "      <td>1.000000</td>\n",
       "      <td>1.000000</td>\n",
       "      <td>1.000000</td>\n",
       "      <td>1.000000</td>\n",
       "    </tr>\n",
       "    <tr>\n",
       "      <td>2</td>\n",
       "      <td>0.308800</td>\n",
       "      <td>0.325136</td>\n",
       "      <td>1.000000</td>\n",
       "      <td>1.000000</td>\n",
       "      <td>1.000000</td>\n",
       "      <td>1.000000</td>\n",
       "    </tr>\n",
       "    <tr>\n",
       "      <td>3</td>\n",
       "      <td>0.256300</td>\n",
       "      <td>0.320791</td>\n",
       "      <td>1.000000</td>\n",
       "      <td>1.000000</td>\n",
       "      <td>1.000000</td>\n",
       "      <td>1.000000</td>\n",
       "    </tr>\n",
       "  </tbody>\n",
       "</table><p>"
      ],
      "text/plain": [
       "<IPython.core.display.HTML object>"
      ]
     },
     "metadata": {},
     "output_type": "display_data"
    },
    {
     "data": {
      "text/plain": [
       "CommitInfo(commit_url='https://huggingface.co/Blusque/results/commit/82034281b531802d43366378fe479e9bc2a0949a', commit_message='Training complete', commit_description='', oid='82034281b531802d43366378fe479e9bc2a0949a', pr_url=None, repo_url=RepoUrl('https://huggingface.co/Blusque/results', endpoint='https://huggingface.co', repo_type='model', repo_id='Blusque/results'), pr_revision=None, pr_num=None)"
      ]
     },
     "execution_count": 12,
     "metadata": {},
     "output_type": "execute_result"
    }
   ],
   "source": [
    "from transformers import AutoModelForTokenClassification, Trainer, TrainingArguments\n",
    "\n",
    "model = AutoModelForTokenClassification.from_pretrained(\n",
    "    'google-bert/bert-base-cased',\n",
    "    num_labels=len(LABEL_TO_ID),\n",
    "    id2label=ID_TO_LABEL,\n",
    "    label2id=LABEL_TO_ID,\n",
    ")\n",
    "\n",
    "training_args = TrainingArguments(\n",
    "    output_dir='./results',\n",
    "    evaluation_strategy='epoch',\n",
    "    learning_rate=2e-5,\n",
    "    per_device_train_batch_size=16,\n",
    "    per_device_eval_batch_size=16,\n",
    "    num_train_epochs=3,\n",
    "    weight_decay=0.01,\n",
    "    eval_strategy='epoch',  # Evaluate every epoch\n",
    "    save_strategy='epoch',  # Save the model every epoch\n",
    "    load_best_model_at_end=True,  # Load the best model when finished training\n",
    "    save_total_limit=2,\n",
    "    push_to_hub=True\n",
    ")\n",
    "\n",
    "trainer = Trainer(\n",
    "    model=model,\n",
    "    args=training_args,\n",
    "    train_dataset=tokenized_datasets['train'],\n",
    "    eval_dataset=tokenized_datasets['validation'],\n",
    "    data_collator=data_collator,\n",
    "    compute_metrics=compute_metrics,  # Pass the compute_metrics function\n",
    ")\n",
    "\n",
    "trainer.train()\n",
    "\n",
    "# Push the model to the Hub\n",
    "trainer.push_to_hub(commit_message=\"Training complete\")"
   ]
  }
 ],
 "metadata": {
  "kernelspec": {
   "display_name": "nlp_env",
   "language": "python",
   "name": "python3"
  },
  "language_info": {
   "codemirror_mode": {
    "name": "ipython",
    "version": 3
   },
   "file_extension": ".py",
   "mimetype": "text/x-python",
   "name": "python",
   "nbconvert_exporter": "python",
   "pygments_lexer": "ipython3",
   "version": "3.11.10"
  }
 },
 "nbformat": 4,
 "nbformat_minor": 5
}
